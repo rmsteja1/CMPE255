{
 "cells": [
  {
   "cell_type": "markdown",
   "metadata": {
    "id": "7Cd_pe4uWiOS"
   },
   "source": [
    "# HW 3: Supervised Learning on the Bank Marketing Dataset\n",
    "\n",
    "The original dataset is available here: https://archive.ics.uci.edu/ml/datasets/Bank+Marketing\n",
    "We have a modified subset of this dataset to practice data  preprocessing. \n",
    "\n",
    "Perform the following tasks on the provided bank marketing dataset (bank-hw1.csv contains the dataset and bank-names.txt contains the description of the original dataset). Complete all the LP questions to receive a \"low pass\" grade on the homework. Complete all the LP questions and at least one of the HP questions to receive a \"high pass\" grade on the homework. \n",
    "\n",
    "Note that if you are unable to complete any of the LP questions satisfactorily, you will receive a grade of \"revision required\". You can revise and resubmit your work in exchange for a token. Please review the syllabus for more information on specifications grading.\n",
    "\n",
    "**VERY IMPORTANT**: Include **ALL** the references you used for this assignment, including names of classmates you discuss with. Failure to cite your sources counts as an act of academic dishonesty and will be taken seriously without zero tolerance. You will automatically receive a “fail” grade in the homework and further serious penalties may be imposed.\n",
    "\n",
    "NOTE: You can look for help on the Internet but refrain from referencing too much. Please cite all your sources in your submission. \n",
    "When you submit your assignment, you automatically agree to the following statement. If you do not agree, it is your responsibility to provide the reason.\n",
    "\n",
    "“*I affirm that I have neither given nor received unauthorized help in completing this homework. I am not aware of others receiving such help. I have cited all the sources in the solution file.*”"
   ]
  },
  {
   "cell_type": "markdown",
   "metadata": {
    "id": "FNycoKnlZOCf"
   },
   "source": [
    "[LP 1] Import/modify your preprocessed dataset from HW1 or clean the dataset here. Extract the following columns:\n",
    "\n",
    "1. duration: all entries must be non-negative\n",
    "2. campaign\n",
    "3. pdays\n",
    "4. previous\n",
    "5. y\n",
    "\n",
    "The \"y\" column is the label. \n",
    "\n",
    "The set of values in each column and their meaning is provided in the bank-names.txt file. You can use the information to make decisions. Please explain your choices if you are preprocessing the dataset again here and comment on the changes you make to the preprocessed dataset from HW1. \n",
    "\n",
    "Prepare the data by splitting into training and test datasets to perform supervised learning on this filtered dataset. "
   ]
  },
  {
   "cell_type": "code",
   "execution_count": 61,
   "metadata": {
    "id": "7mTSEo9-WrIg"
   },
   "outputs": [
    {
     "name": "stderr",
     "output_type": "stream",
     "text": [
      "C:\\Users\\Checkout\\AppData\\Local\\Temp/ipykernel_22360/1325952187.py:17: SettingWithCopyWarning: \n",
      "A value is trying to be set on a copy of a slice from a DataFrame.\n",
      "Try using .loc[row_indexer,col_indexer] = value instead\n",
      "\n",
      "See the caveats in the documentation: https://pandas.pydata.org/pandas-docs/stable/user_guide/indexing.html#returning-a-view-versus-a-copy\n",
      "  df2['y']=encoded_y\n"
     ]
    }
   ],
   "source": [
    "# Your code for LP1 goes here\n",
    "# Feel free to add cells below this for LP1\n",
    "\n",
    "import pandas as pd\n",
    "df=pd.read_csv('bank_cleans.csv')\n",
    "\n",
    "#Extract columns\n",
    "\n",
    "df1 = df[['duration','campaign','pdays','previous']]\n",
    "df2 = df[['y']]\n",
    "\n",
    "# Encoded data in cloumn y into numerical values\n",
    "\n",
    "from sklearn.preprocessing import LabelBinarizer\n",
    "encoder1 = LabelBinarizer()\n",
    "encoded_y = encoder1.fit_transform(df2['y'].values.reshape(-1,1))\n",
    "df2['y']=encoded_y\n"
   ]
  },
  {
   "cell_type": "code",
   "execution_count": 62,
   "metadata": {},
   "outputs": [],
   "source": [
    "#Split into training and test data\n",
    "\n",
    "training_data1 = df1.sample(frac=0.8, random_state=25)\n",
    "testing_data1 = df1.drop(training_data1.index)\n",
    "\n",
    "training_data2 = df2.sample(frac=0.8, random_state=25)\n",
    "testing_data2 = df2.drop(training_data2.index)\n",
    "\n",
    "# print(f\"No. of training examples: {training_data.shape[0]}\")\n",
    "# print(f\"No. of testing examples: {testing_data.shape[0]}\")\n"
   ]
  },
  {
   "cell_type": "markdown",
   "metadata": {
    "id": "BMVdgyBiblFg"
   },
   "source": [
    "[LP 2] Build a decision tree on the training dataset upto a maximum depth of 6 with the entropy as the criterion and plot the decision tree. "
   ]
  },
  {
   "cell_type": "code",
   "execution_count": 63,
   "metadata": {
    "id": "2mossVbUbt6z"
   },
   "outputs": [
    {
     "data": {
      "text/plain": [
       "[Text(183.16956521739132, 201.90857142857143, 'X[0] <= 0.458\\nentropy = 0.514\\nsamples = 2242\\nvalue = [1985, 257]'),\n",
       " Text(90.37173913043479, 170.84571428571428, 'X[2] <= -0.408\\nentropy = 0.323\\nsamples = 1835\\nvalue = [1727, 108]'),\n",
       " Text(33.96521739130435, 139.78285714285715, 'X[0] <= -0.544\\nentropy = 0.225\\nsamples = 1489\\nvalue = [1435, 54]'),\n",
       " Text(9.704347826086957, 108.72, 'X[0] <= -0.618\\nentropy = 0.019\\nsamples = 557\\nvalue = [556, 1]'),\n",
       " Text(4.852173913043479, 77.65714285714284, 'entropy = 0.0\\nsamples = 420\\nvalue = [420, 0]'),\n",
       " Text(14.556521739130435, 77.65714285714284, 'X[0] <= -0.614\\nentropy = 0.062\\nsamples = 137\\nvalue = [136, 1]'),\n",
       " Text(9.704347826086957, 46.59428571428572, 'X[1] <= -0.424\\nentropy = 0.65\\nsamples = 6\\nvalue = [5, 1]'),\n",
       " Text(4.852173913043479, 15.531428571428563, 'entropy = 0.918\\nsamples = 3\\nvalue = [2, 1]'),\n",
       " Text(14.556521739130435, 15.531428571428563, 'entropy = 0.0\\nsamples = 3\\nvalue = [3, 0]'),\n",
       " Text(19.408695652173915, 46.59428571428572, 'entropy = 0.0\\nsamples = 131\\nvalue = [131, 0]'),\n",
       " Text(58.22608695652174, 108.72, 'X[1] <= -0.424\\nentropy = 0.315\\nsamples = 932\\nvalue = [879, 53]'),\n",
       " Text(38.81739130434783, 77.65714285714284, 'X[0] <= 0.13\\nentropy = 0.461\\nsamples = 339\\nvalue = [306, 33]'),\n",
       " Text(29.11304347826087, 46.59428571428572, 'X[0] <= 0.031\\nentropy = 0.392\\nsamples = 285\\nvalue = [263, 22]'),\n",
       " Text(24.260869565217394, 15.531428571428563, 'entropy = 0.418\\nsamples = 260\\nvalue = [238, 22]'),\n",
       " Text(33.96521739130435, 15.531428571428563, 'entropy = 0.0\\nsamples = 25\\nvalue = [25, 0]'),\n",
       " Text(48.52173913043479, 46.59428571428572, 'X[0] <= 0.368\\nentropy = 0.729\\nsamples = 54\\nvalue = [43, 11]'),\n",
       " Text(43.66956521739131, 15.531428571428563, 'entropy = 0.83\\nsamples = 42\\nvalue = [31, 11]'),\n",
       " Text(53.37391304347827, 15.531428571428563, 'entropy = 0.0\\nsamples = 12\\nvalue = [12, 0]'),\n",
       " Text(77.63478260869566, 77.65714285714284, 'X[0] <= 0.117\\nentropy = 0.213\\nsamples = 593\\nvalue = [573, 20]'),\n",
       " Text(67.9304347826087, 46.59428571428572, 'X[0] <= -0.13\\nentropy = 0.148\\nsamples = 474\\nvalue = [464, 10]'),\n",
       " Text(63.07826086956522, 15.531428571428563, 'entropy = 0.18\\nsamples = 367\\nvalue = [357, 10]'),\n",
       " Text(72.78260869565219, 15.531428571428563, 'entropy = 0.0\\nsamples = 107\\nvalue = [107, 0]'),\n",
       " Text(87.33913043478262, 46.59428571428572, 'X[0] <= 0.126\\nentropy = 0.416\\nsamples = 119\\nvalue = [109, 10]'),\n",
       " Text(82.48695652173913, 15.531428571428563, 'entropy = 1.0\\nsamples = 2\\nvalue = [1, 1]'),\n",
       " Text(92.19130434782609, 15.531428571428563, 'entropy = 0.391\\nsamples = 117\\nvalue = [108, 9]'),\n",
       " Text(146.77826086956523, 139.78285714285715, 'X[2] <= 1.826\\nentropy = 0.625\\nsamples = 346\\nvalue = [292, 54]'),\n",
       " Text(118.87826086956522, 108.72, 'X[0] <= -0.22\\nentropy = 0.783\\nsamples = 189\\nvalue = [145, 44]'),\n",
       " Text(101.89565217391305, 77.65714285714284, 'X[0] <= -0.678\\nentropy = 0.574\\nsamples = 125\\nvalue = [108, 17]'),\n",
       " Text(97.04347826086958, 46.59428571428572, 'entropy = 0.0\\nsamples = 25\\nvalue = [25, 0]'),\n",
       " Text(106.74782608695654, 46.59428571428572, 'X[2] <= 1.449\\nentropy = 0.658\\nsamples = 100\\nvalue = [83, 17]'),\n",
       " Text(101.89565217391305, 15.531428571428563, 'entropy = 0.708\\nsamples = 88\\nvalue = [71, 17]'),\n",
       " Text(111.60000000000001, 15.531428571428563, 'entropy = 0.0\\nsamples = 12\\nvalue = [12, 0]'),\n",
       " Text(135.8608695652174, 77.65714285714284, 'X[0] <= 0.266\\nentropy = 0.982\\nsamples = 64\\nvalue = [37, 27]'),\n",
       " Text(126.15652173913044, 46.59428571428572, 'X[2] <= 1.429\\nentropy = 0.998\\nsamples = 55\\nvalue = [29, 26]'),\n",
       " Text(121.30434782608697, 15.531428571428563, 'entropy = 0.974\\nsamples = 42\\nvalue = [25, 17]'),\n",
       " Text(131.0086956521739, 15.531428571428563, 'entropy = 0.89\\nsamples = 13\\nvalue = [4, 9]'),\n",
       " Text(145.56521739130437, 46.59428571428572, 'X[0] <= 0.443\\nentropy = 0.503\\nsamples = 9\\nvalue = [8, 1]'),\n",
       " Text(140.7130434782609, 15.531428571428563, 'entropy = 0.0\\nsamples = 8\\nvalue = [8, 0]'),\n",
       " Text(150.41739130434783, 15.531428571428563, 'entropy = 0.0\\nsamples = 1\\nvalue = [0, 1]'),\n",
       " Text(174.67826086956524, 108.72, 'X[2] <= 3.511\\nentropy = 0.342\\nsamples = 157\\nvalue = [147, 10]'),\n",
       " Text(160.1217391304348, 77.65714285714284, 'X[0] <= -0.424\\nentropy = 0.182\\nsamples = 145\\nvalue = [141, 4]'),\n",
       " Text(155.26956521739132, 46.59428571428572, 'entropy = 0.0\\nsamples = 66\\nvalue = [66, 0]'),\n",
       " Text(164.97391304347826, 46.59428571428572, 'X[0] <= -0.408\\nentropy = 0.289\\nsamples = 79\\nvalue = [75, 4]'),\n",
       " Text(160.1217391304348, 15.531428571428563, 'entropy = 0.0\\nsamples = 1\\nvalue = [0, 1]'),\n",
       " Text(169.82608695652175, 15.531428571428563, 'entropy = 0.235\\nsamples = 78\\nvalue = [75, 3]'),\n",
       " Text(189.23478260869567, 77.65714285714284, 'X[0] <= 0.104\\nentropy = 1.0\\nsamples = 12\\nvalue = [6, 6]'),\n",
       " Text(184.38260869565218, 46.59428571428572, 'X[0] <= -0.791\\nentropy = 0.918\\nsamples = 9\\nvalue = [6, 3]'),\n",
       " Text(179.53043478260872, 15.531428571428563, 'entropy = 0.0\\nsamples = 1\\nvalue = [0, 1]'),\n",
       " Text(189.23478260869567, 15.531428571428563, 'entropy = 0.811\\nsamples = 8\\nvalue = [6, 2]'),\n",
       " Text(194.08695652173915, 46.59428571428572, 'entropy = 0.0\\nsamples = 3\\nvalue = [0, 3]'),\n",
       " Text(275.96739130434787, 170.84571428571428, 'X[0] <= 1.47\\nentropy = 0.948\\nsamples = 407\\nvalue = [258, 149]'),\n",
       " Text(238.96956521739133, 139.78285714285715, 'X[2] <= -0.312\\nentropy = 0.836\\nsamples = 233\\nvalue = [171, 62]'),\n",
       " Text(225.62608695652176, 108.72, 'X[1] <= -0.088\\nentropy = 0.756\\nsamples = 193\\nvalue = [151, 42]'),\n",
       " Text(213.49565217391307, 77.65714285714284, 'X[0] <= 1.031\\nentropy = 0.703\\nsamples = 131\\nvalue = [106, 25]'),\n",
       " Text(203.7913043478261, 46.59428571428572, 'X[0] <= 0.556\\nentropy = 0.625\\nsamples = 96\\nvalue = [81, 15]'),\n",
       " Text(198.9391304347826, 15.531428571428563, 'entropy = 0.902\\nsamples = 22\\nvalue = [15, 7]'),\n",
       " Text(208.64347826086959, 15.531428571428563, 'entropy = 0.494\\nsamples = 74\\nvalue = [66, 8]'),\n",
       " Text(223.20000000000002, 46.59428571428572, 'X[0] <= 1.057\\nentropy = 0.863\\nsamples = 35\\nvalue = [25, 10]'),\n",
       " Text(218.34782608695653, 15.531428571428563, 'entropy = 0.0\\nsamples = 1\\nvalue = [0, 1]'),\n",
       " Text(228.0521739130435, 15.531428571428563, 'entropy = 0.834\\nsamples = 34\\nvalue = [25, 9]'),\n",
       " Text(237.75652173913045, 77.65714285714284, 'X[0] <= 0.551\\nentropy = 0.847\\nsamples = 62\\nvalue = [45, 17]'),\n",
       " Text(232.90434782608696, 46.59428571428572, 'entropy = 0.0\\nsamples = 7\\nvalue = [7, 0]'),\n",
       " Text(242.60869565217394, 46.59428571428572, 'X[0] <= 0.58\\nentropy = 0.892\\nsamples = 55\\nvalue = [38, 17]'),\n",
       " Text(237.75652173913045, 15.531428571428563, 'entropy = 0.0\\nsamples = 2\\nvalue = [0, 2]'),\n",
       " Text(247.46086956521742, 15.531428571428563, 'entropy = 0.86\\nsamples = 53\\nvalue = [38, 15]'),\n",
       " Text(252.31304347826088, 108.72, 'X[0] <= 0.487\\nentropy = 1.0\\nsamples = 40\\nvalue = [20, 20]'),\n",
       " Text(247.46086956521742, 77.65714285714284, 'entropy = 0.0\\nsamples = 3\\nvalue = [0, 3]'),\n",
       " Text(257.1652173913044, 77.65714285714284, 'X[0] <= 0.592\\nentropy = 0.995\\nsamples = 37\\nvalue = [20, 17]'),\n",
       " Text(252.31304347826088, 46.59428571428572, 'entropy = 0.0\\nsamples = 7\\nvalue = [7, 0]'),\n",
       " Text(262.0173913043478, 46.59428571428572, 'X[0] <= 1.098\\nentropy = 0.987\\nsamples = 30\\nvalue = [13, 17]'),\n",
       " Text(257.1652173913044, 15.531428571428563, 'entropy = 0.831\\nsamples = 19\\nvalue = [5, 14]'),\n",
       " Text(266.8695652173913, 15.531428571428563, 'entropy = 0.845\\nsamples = 11\\nvalue = [8, 3]'),\n",
       " Text(312.96521739130435, 139.78285714285715, 'X[1] <= 2.26\\nentropy = 1.0\\nsamples = 174\\nvalue = [87, 87]'),\n",
       " Text(308.1130434782609, 108.72, 'X[0] <= 1.968\\nentropy = 1.0\\nsamples = 170\\nvalue = [87, 83]'),\n",
       " Text(291.13043478260875, 77.65714285714284, 'X[0] <= 1.697\\nentropy = 0.959\\nsamples = 55\\nvalue = [34, 21]'),\n",
       " Text(281.4260869565218, 46.59428571428572, 'X[1] <= 1.253\\nentropy = 0.997\\nsamples = 32\\nvalue = [15, 17]'),\n",
       " Text(276.5739130434783, 15.531428571428563, 'entropy = 0.978\\nsamples = 29\\nvalue = [12, 17]'),\n",
       " Text(286.27826086956526, 15.531428571428563, 'entropy = 0.0\\nsamples = 3\\nvalue = [3, 0]'),\n",
       " Text(300.83478260869566, 46.59428571428572, 'X[0] <= 1.911\\nentropy = 0.667\\nsamples = 23\\nvalue = [19, 4]'),\n",
       " Text(295.9826086956522, 15.531428571428563, 'entropy = 0.764\\nsamples = 18\\nvalue = [14, 4]'),\n",
       " Text(305.68695652173915, 15.531428571428563, 'entropy = 0.0\\nsamples = 5\\nvalue = [5, 0]'),\n",
       " Text(325.0956521739131, 77.65714285714284, 'X[1] <= 1.589\\nentropy = 0.996\\nsamples = 115\\nvalue = [53, 62]'),\n",
       " Text(320.2434782608696, 46.59428571428572, 'X[0] <= 6.849\\nentropy = 0.998\\nsamples = 112\\nvalue = [53, 59]'),\n",
       " Text(315.3913043478261, 15.531428571428563, 'entropy = 0.996\\nsamples = 110\\nvalue = [51, 59]'),\n",
       " Text(325.0956521739131, 15.531428571428563, 'entropy = 0.0\\nsamples = 2\\nvalue = [2, 0]'),\n",
       " Text(329.9478260869565, 46.59428571428572, 'entropy = 0.0\\nsamples = 3\\nvalue = [0, 3]'),\n",
       " Text(317.81739130434784, 108.72, 'entropy = 0.0\\nsamples = 4\\nvalue = [0, 4]')]"
      ]
     },
     "execution_count": 63,
     "metadata": {},
     "output_type": "execute_result"
    },
    {
     "data": {
      "image/png": "[encoded data removed]",
      "text/plain": [
       "<Figure size 432x288 with 1 Axes>"
      ]
     },
     "metadata": {
      "needs_background": "light"
     },
     "output_type": "display_data"
    }
   ],
   "source": [
    "# Your code for LP2 goes here\n",
    "# Feel free to add cells below this for LP2\n",
    "\n",
    "\n",
    "from sklearn.tree import DecisionTreeClassifier\n",
    "from sklearn import tree\n",
    "from matplotlib import pyplot as plt\n",
    "\n",
    "decision_tree = DecisionTreeClassifier(criterion='entropy', max_depth=6)\n",
    "decision_tree = decision_tree.fit(df1,df2)\n",
    "\n",
    "#This code plots decision tree \n",
    "tree.plot_tree(decision_tree)\n"
   ]
  },
  {
   "cell_type": "markdown",
   "metadata": {
    "id": "k-LXSIMuaIqI"
   },
   "source": [
    "[HP 1] Are there any leaf nodes with an entropy > 0? If so, what does it mean? How does this model perform on the test dataset? Provide an example on how the results for a single sample can be interpreted."
   ]
  },
  {
   "cell_type": "code",
   "execution_count": 64,
   "metadata": {
    "id": "Gl7LjuEwY1sy"
   },
   "outputs": [
    {
     "name": "stdout",
     "output_type": "stream",
     "text": [
      "Total nodes in Decision Tree is 87\n",
      "Nodes with entropy > 0 is 63\n"
     ]
    }
   ],
   "source": [
    "# Your code for HP1 goes here\n",
    "# Feel free to add cells below this for HP1\n",
    "\n",
    "#Nodes with entrpy using impurity\n",
    "\n",
    "n1=decision_tree.tree_.node_count\n",
    "n2=len(list(filter(lambda y: y > 0, decision_tree.tree_.impurity)))\n",
    "print(f'Total nodes in Decision Tree is {n1}')\n",
    "print(f'Nodes with entropy > 0 is {n2}')\n",
    "\n",
    "\n",
    "\n"
   ]
  },
  {
   "cell_type": "code",
   "execution_count": 65,
   "metadata": {},
   "outputs": [
    {
     "name": "stdout",
     "output_type": "stream",
     "text": [
      "Accuracy of Test Data is 91.96428571428571\n"
     ]
    }
   ],
   "source": [
    "#Accuracy of the model\n",
    "from sklearn.metrics import accuracy_score\n",
    "X = decision_tree.predict(testing_data1)\n",
    "acc=accuracy_score(testing_data2, X)*100\n",
    "print(f'Accuracy of Test Data is {acc}')"
   ]
  },
  {
   "cell_type": "markdown",
   "metadata": {
    "id": "c5LLVcoaNSmD"
   },
   "source": [
    "< Your answer for HP1 goes here >"
   ]
  },
  {
   "cell_type": "markdown",
   "metadata": {
    "id": "Tcgkb1cVb44n"
   },
   "source": [
    "[LP 3] Perform grid search with cross-validation to determine the best decision tree for the dataset and decide between the following hyperparamters:\n",
    "  min_samples_split = [4, 10, 20]\n",
    "  max_depth = [3, 4, 5]\n",
    "Plot the best performing model."
   ]
  },
  {
   "cell_type": "code",
   "execution_count": 66,
   "metadata": {
    "id": "5dE5r-Rdcgkt"
   },
   "outputs": [],
   "source": [
    "# Your code for LP3 goes here\n",
    "# Feel free to add cells below this for LP3\n",
    "\n",
    "from sklearn.model_selection import GridSearchCV\n",
    "\n",
    "params = {\n",
    "    'min_samples_split': [4, 10, 20],\n",
    "    'max_depth': [3, 4, 5]   \n",
    "}"
   ]
  },
  {
   "cell_type": "code",
   "execution_count": 67,
   "metadata": {},
   "outputs": [
    {
     "name": "stdout",
     "output_type": "stream",
     "text": [
      "Fitting 5 folds for each of 9 candidates, totalling 45 fits\n"
     ]
    },
    {
     "data": {
      "text/plain": [
       "GridSearchCV(cv=5, estimator=DecisionTreeClassifier(random_state=25),\n",
       "             param_grid={'max_depth': [3, 4, 5],\n",
       "                         'min_samples_split': [4, 10, 20]},\n",
       "             verbose=1)"
      ]
     },
     "execution_count": 67,
     "metadata": {},
     "output_type": "execute_result"
    }
   ],
   "source": [
    "gscv = GridSearchCV(DecisionTreeClassifier(random_state=25), params, verbose=1, cv=5)\n",
    "gscv.fit(training_data1, training_data2)"
   ]
  },
  {
   "cell_type": "code",
   "execution_count": 68,
   "metadata": {},
   "outputs": [
    {
     "data": {
      "text/html": [
       "<div>\n",
       "<style scoped>\n",
       "    .dataframe tbody tr th:only-of-type {\n",
       "        vertical-align: middle;\n",
       "    }\n",
       "\n",
       "    .dataframe tbody tr th {\n",
       "        vertical-align: top;\n",
       "    }\n",
       "\n",
       "    .dataframe thead th {\n",
       "        text-align: right;\n",
       "    }\n",
       "</style>\n",
       "<table border=\"1\" class=\"dataframe\">\n",
       "  <thead>\n",
       "    <tr style=\"text-align: right;\">\n",
       "      <th></th>\n",
       "      <th>max_depth</th>\n",
       "      <th>min_samples_split</th>\n",
       "      <th>accuracy</th>\n",
       "    </tr>\n",
       "  </thead>\n",
       "  <tbody>\n",
       "    <tr>\n",
       "      <th>0</th>\n",
       "      <td>3</td>\n",
       "      <td>4</td>\n",
       "      <td>88.182724</td>\n",
       "    </tr>\n",
       "    <tr>\n",
       "      <th>1</th>\n",
       "      <td>3</td>\n",
       "      <td>10</td>\n",
       "      <td>88.182724</td>\n",
       "    </tr>\n",
       "    <tr>\n",
       "      <th>2</th>\n",
       "      <td>3</td>\n",
       "      <td>20</td>\n",
       "      <td>88.182724</td>\n",
       "    </tr>\n",
       "    <tr>\n",
       "      <th>3</th>\n",
       "      <td>4</td>\n",
       "      <td>4</td>\n",
       "      <td>87.736730</td>\n",
       "    </tr>\n",
       "    <tr>\n",
       "      <th>4</th>\n",
       "      <td>4</td>\n",
       "      <td>10</td>\n",
       "      <td>87.736730</td>\n",
       "    </tr>\n",
       "    <tr>\n",
       "      <th>5</th>\n",
       "      <td>4</td>\n",
       "      <td>20</td>\n",
       "      <td>87.792440</td>\n",
       "    </tr>\n",
       "    <tr>\n",
       "      <th>6</th>\n",
       "      <td>5</td>\n",
       "      <td>4</td>\n",
       "      <td>87.458178</td>\n",
       "    </tr>\n",
       "    <tr>\n",
       "      <th>7</th>\n",
       "      <td>5</td>\n",
       "      <td>10</td>\n",
       "      <td>87.290892</td>\n",
       "    </tr>\n",
       "    <tr>\n",
       "      <th>8</th>\n",
       "      <td>5</td>\n",
       "      <td>20</td>\n",
       "      <td>87.235182</td>\n",
       "    </tr>\n",
       "  </tbody>\n",
       "</table>\n",
       "</div>"
      ],
      "text/plain": [
       "   max_depth  min_samples_split   accuracy\n",
       "0          3                  4  88.182724\n",
       "1          3                 10  88.182724\n",
       "2          3                 20  88.182724\n",
       "3          4                  4  87.736730\n",
       "4          4                 10  87.736730\n",
       "5          4                 20  87.792440\n",
       "6          5                  4  87.458178\n",
       "7          5                 10  87.290892\n",
       "8          5                 20  87.235182"
      ]
     },
     "execution_count": 68,
     "metadata": {},
     "output_type": "execute_result"
    }
   ],
   "source": [
    "gscv_accuracy = list(map(lambda x: x*100, gscv.cv_results_['mean_test_score']))\n",
    "gscv_depth = list(map(lambda x: x['max_depth'], gscv.cv_results_['params']))\n",
    "gscv_samples_split = list(map(lambda x: x['min_samples_split'], gscv.cv_results_['params']))\n",
    "\n",
    "gscv_data = {'max_depth': gscv_depth, 'min_samples_split': gscv_samples_split, 'accuracy': gscv_accuracy}\n",
    "gscv_results = pd.DataFrame(data=gscv_data)\n",
    "gscv_results\n"
   ]
  },
  {
   "cell_type": "code",
   "execution_count": 69,
   "metadata": {},
   "outputs": [
    {
     "data": {
      "image/png": "[encoded data removed]",
      "text/plain": [
       "<Figure size 432x288 with 1 Axes>"
      ]
     },
     "metadata": {
      "needs_background": "light"
     },
     "output_type": "display_data"
    }
   ],
   "source": [
    "#Accuracies of models. Best model gives best accuracy\n",
    "import matplotlib.pyplot as plt\n",
    "plt.plot(range(0, gscv_results.shape[0]), list(gscv_results['accuracy']))\n",
    "plt.title('Models Accuracy')\n",
    "plt.xlabel('Models')\n",
    "plt.ylabel('Accuracy percentages')\n",
    "plt.show()"
   ]
  },
  {
   "cell_type": "markdown",
   "metadata": {
    "id": "TeaTUS48OLTL"
   },
   "source": [
    "[LP 4] Train a neural network (multi-layer perceprtron) using the training dataset with two hidden layers containing 64 neurons each.\n",
    "\n",
    "Pick the following parameters: max_iter=100,solver='adam',early_stopping=True,random_state=10"
   ]
  },
  {
   "cell_type": "code",
   "execution_count": 70,
   "metadata": {
    "id": "_u12wknKOL2P"
   },
   "outputs": [
    {
     "name": "stderr",
     "output_type": "stream",
     "text": [
      "C:\\Users\\Checkout\\anaconda3\\lib\\site-packages\\sklearn\\utils\\validation.py:63: DataConversionWarning: A column-vector y was passed when a 1d array was expected. Please change the shape of y to (n_samples, ), for example using ravel().\n",
      "  return f(*args, **kwargs)\n"
     ]
    },
    {
     "data": {
      "text/plain": [
       "MLPClassifier(early_stopping=True, hidden_layer_sizes=(64, 64), max_iter=100,\n",
       "              random_state=25)"
      ]
     },
     "execution_count": 70,
     "metadata": {},
     "output_type": "execute_result"
    }
   ],
   "source": [
    "# Your code for LP4 goes here\n",
    "# Feel free to add cells below this for LP4\n",
    "\n",
    "from sklearn.neural_network import MLPClassifier\n",
    "mlpclf = MLPClassifier(hidden_layer_sizes=(64, 64), random_state=25, \n",
    "                        max_iter=100, solver='adam', early_stopping=True)\n",
    "mlpclf.fit(training_data1, training_data2)\n"
   ]
  },
  {
   "cell_type": "code",
   "execution_count": 71,
   "metadata": {},
   "outputs": [
    {
     "name": "stdout",
     "output_type": "stream",
     "text": [
      "Accuracy on Test Data is 89.0625\n"
     ]
    }
   ],
   "source": [
    "from sklearn.metrics import accuracy_score\n",
    "mlppredict = mlpclf.predict(testing_data1)\n",
    "acc1=accuracy_score(testing_data2, mlppredict)*100\n",
    "print(f'Accuracy on Test Data is {acc1}')"
   ]
  },
  {
   "cell_type": "markdown",
   "metadata": {
    "id": "f79liZLlOkWf"
   },
   "source": [
    "[HP 2] Interpret the results of grid search CV for the decision tree and neural network and comment on the following:\n",
    "1. How does the model perform on the test dataset? \n",
    "2. Based on the confusion matrix for the best performing model, do you think the model performs satisfactorily for the application?\n"
   ]
  },
  {
   "cell_type": "code",
   "execution_count": 72,
   "metadata": {
    "id": "BL3P0vGxPbCv"
   },
   "outputs": [
    {
     "name": "stdout",
     "output_type": "stream",
     "text": [
      "Accuracy on Test Data is 89.50892857142857\n"
     ]
    }
   ],
   "source": [
    "# Your code for HP2 goes here\n",
    "# Feel free to add cells below this for HP2\n",
    "\n",
    "from sklearn.metrics import confusion_matrix\n",
    "\n",
    "#Model performance on test dataset(testing_data1)\n",
    "maximum_depth = gscv.best_params_['max_depth']\n",
    "minimum_samples_split = gscv.best_params_['min_samples_split']\n",
    "\n",
    "decision_tree = DecisionTreeClassifier(criterion='entropy', max_depth=maximum_depth, min_samples_split=minimum_samples_split)\n",
    "decision_tree.fit(training_data1, training_data2)\n",
    "\n",
    "pred = decision_tree.predict(testing_data1)\n",
    "acc2=accuracy_score(testing_data2, pred)*100\n",
    "print(f'Accuracy on Test Data is {acc2}')"
   ]
  },
  {
   "cell_type": "code",
   "execution_count": null,
   "metadata": {},
   "outputs": [],
   "source": [
    "#HP2 1. Both NN (Multilayer Perception) and grid search CV for the best performing \n",
    "#decision tree model give almost similar accuraciesaround 89% +. \n",
    "#The best performingdecision tree model gives a little higher percentage with 89.5%"
   ]
  },
  {
   "cell_type": "code",
   "execution_count": 73,
   "metadata": {},
   "outputs": [
    {
     "data": {
      "text/plain": [
       "array([[385,  15],\n",
       "       [ 32,  16]], dtype=int64)"
      ]
     },
     "execution_count": 73,
     "metadata": {},
     "output_type": "execute_result"
    }
   ],
   "source": [
    "#confusion matrix for best performing decision tree model\n",
    "confusion_matrix(testing_data2, pred)\n"
   ]
  },
  {
   "cell_type": "code",
   "execution_count": 74,
   "metadata": {},
   "outputs": [
    {
     "data": {
      "text/plain": [
       "array([[394,   6],\n",
       "       [ 43,   5]], dtype=int64)"
      ]
     },
     "execution_count": 74,
     "metadata": {},
     "output_type": "execute_result"
    }
   ],
   "source": [
    "#confusion matrix for Multilayer perception\n",
    "confusion_matrix(testing_data2, mlppredict)"
   ]
  },
  {
   "cell_type": "code",
   "execution_count": null,
   "metadata": {},
   "outputs": [],
   "source": [
    "#In the matrix, there are many False positives(cell [0][1]) and False negatives (cell [1][0])in the above confusion matrix\n",
    "#This shows that the model predicts subscription to term deposit even when they did'nt and vice-versa.\n",
    "#Both models didn't perform (including best performing model) well and are not recommended as false positives or negatives can\n",
    "#lead to unforseen consequences."
   ]
  },
  {
   "cell_type": "markdown",
   "metadata": {
    "id": "8ESy_f68ciUo"
   },
   "source": [
    "< Your answer for HP2 goes here >"
   ]
  },
  {
   "cell_type": "markdown",
   "metadata": {
    "id": "K728kb0U8I7p"
   },
   "source": [
    "[Optional exploration] Perform grid search with cross-validation to determine the best neural network for the dataset and decide between the following hyperparamters:\n",
    "  hidden_layer_sizes=[(32,32), (64,64), (128,128), (64,64,64), (128,128,128)]\n",
    "\n",
    "Pick the following default parameters: max_iter=100,solver='adam',early_stopping=True,random_state=10"
   ]
  },
  {
   "cell_type": "markdown",
   "metadata": {
    "id": "OsHDpghuc5RT"
   },
   "source": [
    "# References\n",
    "Include ALL your references here. \n",
    "\n",
    "# What to turn in:\n",
    "1. The ipynb solution file, which includes the references\n",
    "2. If you use Colab or GitHub for version control, please share a link to your notebook or GitHub repository\n",
    "3. The bank_clean.csv file"
   ]
  },
  {
   "cell_type": "code",
   "execution_count": null,
   "metadata": {},
   "outputs": [],
   "source": [
    "#REFERENCES = \n",
    "#https://scikit-learn.org/stable/modules/neural_networks_supervised.html\n",
    "#http://chrisstrelioff.ws/sandbox/2015/06/08/decision_trees_in_python_with_scikit_learn_and_pandas.html\n",
    "#CMPE255 Colab\n",
    "#https://scikit-learn.org/stable/modules/tree.html\n",
    "#Youtube on grid search with cross-validation"
   ]
  }
 ],
 "metadata": {
  "colab": {
   "collapsed_sections": [],
   "name": "HW3 - Supervised Learning.ipynb",
   "provenance": []
  },
  "kernelspec": {
   "display_name": "Python 3 (ipykernel)",
   "language": "python",
   "name": "python3"
  },
  "language_info": {
   "codemirror_mode": {
    "name": "ipython",
    "version": 3
   },
   "file_extension": ".py",
   "mimetype": "text/x-python",
   "name": "python",
   "nbconvert_exporter": "python",
   "pygments_lexer": "ipython3",
   "version": "3.9.7"
  }
 },
 "nbformat": 4,
 "nbformat_minor": 1
}
